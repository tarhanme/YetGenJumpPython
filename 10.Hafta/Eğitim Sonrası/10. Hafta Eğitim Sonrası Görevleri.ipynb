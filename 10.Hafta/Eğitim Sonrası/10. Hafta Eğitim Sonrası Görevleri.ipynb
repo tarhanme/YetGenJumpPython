{
 "cells": [
  {
   "attachments": {},
   "cell_type": "markdown",
   "metadata": {},
   "source": [
    "# Problem 1 "
   ]
  },
  {
   "cell_type": "code",
   "execution_count": 6,
   "metadata": {},
   "outputs": [
    {
     "ename": "ModuleNotFoundError",
     "evalue": "No module named 'numpy'",
     "output_type": "error",
     "traceback": [
      "\u001b[1;31m---------------------------------------------------------------------------\u001b[0m",
      "\u001b[1;31mModuleNotFoundError\u001b[0m                       Traceback (most recent call last)",
      "Cell \u001b[1;32mIn[6], line 2\u001b[0m\n\u001b[0;32m      1\u001b[0m \u001b[39m# 1 - numpy kütüphanesini import edin\u001b[39;00m\n\u001b[1;32m----> 2\u001b[0m \u001b[39mimport\u001b[39;00m \u001b[39mnumpy\u001b[39;00m \u001b[39mas\u001b[39;00m \u001b[39mnp\u001b[39;00m\n\u001b[0;32m      5\u001b[0m \u001b[39m# 2 - 5 elemanlı bir numpy array oluşturun\u001b[39;00m\n\u001b[0;32m      6\u001b[0m yetgen \u001b[39m=\u001b[39m np\u001b[39m.\u001b[39marray([\u001b[39m32\u001b[39m,\u001b[39m99\u001b[39m,\u001b[39m105\u001b[39m,\u001b[39m85\u001b[39m])\n",
      "\u001b[1;31mModuleNotFoundError\u001b[0m: No module named 'numpy'"
     ]
    }
   ],
   "source": [
    "# 1 - numpy kütüphanesini import edin\n",
    "import numpy as np\n",
    "\n",
    "\n",
    "# 2 - 5 elemanlı bir numpy array oluşturun\n",
    "yetgen = np.array([32,99,105,85])\n",
    "print(yetgen)\n",
    "\n",
    "# 3 - Oluşturduğunuz arrayi küçükten büyüğe sıralayın.\n",
    "yetgen2 = np.sort(yetgen)\n",
    "print(yetgen2)\n",
    "\n",
    "# 2 - 5 elemanlı bir numpy array oluşturun\n",
    "yetgen = np.array([32,99,105,85])\n",
    "print(yetgen)\n",
    "\n",
    "# 3 - Oluşturduğunuz arrayi küçükten büyüğe sıralayın.\n",
    "yetgen2 = np.sort(yetgen)\n",
    "print(yetgen2)"
   ]
  },
  {
   "cell_type": "code",
   "execution_count": null,
   "metadata": {},
   "outputs": [
    {
     "ename": "ModuleNotFoundError",
     "evalue": "No module named 'numpy'",
     "output_type": "error",
     "traceback": [
      "\u001b[1;31m---------------------------------------------------------------------------\u001b[0m\n",
      "\u001b[1;31mModuleNotFoundError\u001b[0m                       Traceback (most recent call last)\n",
      "Cell \u001b[1;32mIn[3], line 2\u001b[0m\n",
      "\u001b[0;32m      1\u001b[0m \u001b[39m# 1 - numpy kütüphanesini import edin\u001b[39;00m\n",
      "\u001b[1;32m----> 2\u001b[0m \u001b[39mimport\u001b[39;00m \u001b[39mnumpy\u001b[39;00m\n",
      "\u001b[0;32m      5\u001b[0m \u001b[39m# 2 - 5 elemanlı bir numpy array oluşturun\u001b[39;00m\n",
      "\u001b[0;32m      6\u001b[0m yetgen \u001b[39m=\u001b[39m np\u001b[39m.\u001b[39marray([\u001b[39m32\u001b[39m,\u001b[39m99\u001b[39m,\u001b[39m105\u001b[39m,\u001b[39m85\u001b[39m])\n",
      "\n",
      "\u001b[1;31mModuleNotFoundError\u001b[0m: No module named 'numpy'"
     ]
    }
   ],
   "source": [
    "# 1 - numpy kütüphanesini import edin\n",
    "import numpy\n",
    "\n",
    "\n",
    "# 2 - 5 elemanlı bir numpy array oluşturun\n",
    "yetgen = np.array([32,99,105,85])\n",
    "print(yetgen)\n",
    "\n",
    "# 3 - Oluşturduğunuz arrayi küçükten büyüğe sıralayın.\n",
    "yetgen2 = np.sort(yetgen)\n",
    "print(yetgen2)"
   ]
  },
  {
   "attachments": {},
   "cell_type": "markdown",
   "metadata": {},
   "source": [
    "# Problem 2"
   ]
  },
  {
   "cell_type": "code",
   "execution_count": 2,
   "metadata": {},
   "outputs": [
    {
     "ename": "NameError",
     "evalue": "name 'np' is not defined",
     "output_type": "error",
     "traceback": [
      "\u001b[1;31m---------------------------------------------------------------------------\u001b[0m",
      "\u001b[1;31mNameError\u001b[0m                                 Traceback (most recent call last)",
      "Cell \u001b[1;32mIn[2], line 2\u001b[0m\n\u001b[0;32m      1\u001b[0m \u001b[39m# 1- (10,15,30,45,60) değerlerine sahip numpy dizisi oluşturunuz.\u001b[39;00m\n\u001b[1;32m----> 2\u001b[0m sayilar \u001b[39m=\u001b[39m np\u001b[39m.\u001b[39marray([\u001b[39m10\u001b[39m,\u001b[39m15\u001b[39m,\u001b[39m30\u001b[39m,\u001b[39m45\u001b[39m,\u001b[39m60\u001b[39m])\n\u001b[0;32m      3\u001b[0m \u001b[39mprint\u001b[39m(\u001b[39m\"\u001b[39m\u001b[39msayilar arrayı:\u001b[39m\u001b[39m\"\u001b[39m, sayilar)\n\u001b[0;32m      5\u001b[0m \u001b[39m# 2- (5-15) arasındaki sayılarla numpy dizisi oluşturunuz.\u001b[39;00m\n",
      "\u001b[1;31mNameError\u001b[0m: name 'np' is not defined"
     ]
    }
   ],
   "source": [
    "# 1- (10,15,30,45,60) değerlerine sahip numpy dizisi oluşturunuz.\n",
    "sayi = np.array([10,15,30,45,60])\n",
    "print(\"sayi arrayı:\" , sayi)\n",
    "\n",
    "# 2- (5-15) arasındaki sayılarla numpy dizisi oluşturunuz.\n",
    "sayi2 = np.arange(5,16)\n",
    "print(\"sayi2 arrayi:\" , sayi2)\n",
    " \n",
    "# 3- (50-100) arasında 5'er 5'er artarak numpy dizisi oluşturunuz.\n",
    "sayi3 = np.arange(50,101,5)\n",
    "print(\"sayi3 arrayı:\" , sayi3)\n",
    "\n",
    "# 4- 10 elemanlı sıfırlardan oluşan bir dizi oluşturunuz.\n",
    "sayi4 = np.zeros(10)\n",
    "print(\"sayi4 arrayı:\" , sayi4)\n",
    "\n",
    "# 5- 10 elemanlı birlerden oluşan bir dizi oluşturunuz.\n",
    "sayi5 = np.ones(8)\n",
    "print(\"sayi5 arrayı:\" , sayi5)\n",
    "\n",
    "# 6- (0-100) arasında eşit aralıklı 5 sayı üretin.\n",
    "sayi6 = np.linspace(0,100,5)\n",
    "print(\"sayi6 arrayı:\" , sayi6)\n",
    "\n",
    "# 7- (10-30) arasında rastgele 5 tane tamsayı üretin.\n",
    "sayi7 = np.random.randint(10,31,size=5)\n",
    "print(\"sayi7 arrayı:\" , sayi7)\n",
    "\n",
    "# 8- [-1 ile 1] arasında 10 adet sayı üretin.\n",
    "random = np.random.uniform(-1,1, size=10)\n",
    "print(\"random sayılar:\" , random)\n",
    "\n",
    "# 9- (3x5) boyutlarında (10-50) arasında rastgele bir matris oluşturunuz.\n",
    "random2 = np.random.randint(10,50, size=(3,5))\n",
    "print(\"random2:\" , random2)\n",
    "\n",
    "# 10- Üretilen matrisin satır ve sütun sayıları toplamlarını hesaplayınız ?\n",
    "print(random3.sum(axis=0))\n",
    "print(random3.sum(axis=1))\n",
    "\n",
    "# 11- Üretilen matrisin en büyük, en küçük ve ortalaması nedir ?\n",
    "print(random3.max())\n",
    "print(random3.min())\n",
    "print(random3.mean())\n",
    "\n",
    "# 12- Üretilen matrisin en büyük değerinin indeksi kaçtır ?\n",
    "print(random.argmax())\n",
    "\n",
    "\n",
    "# 13- (10-20) arasındaki sayıları içeren dizinin ilk 3 elemanını seçiniz.\n",
    "random4 = np.random.randint(10,20, size=10)\n",
    "print(random4[:3])\n",
    "\n",
    "# 14- Üretilen dizinin elemanlarını tersten yazdırın.\n",
    "print(random4[::-1])\n",
    "\n",
    "# 15- Üretilen matrisin ilk satırını seçiniz.\n",
    "print(random3[0])\n",
    "\n",
    "# 16- Üretilen matrisin 2.satır 3.sütundaki elemanı hangisidir ?\n",
    "print(random3[1][2])\n",
    "\n",
    "# 17- Üretilen matrisin tüm satırlardaki ilk elemanı seçiniz.\n",
    "print(random3[:,0])\n",
    "\n",
    "# 18- Üretilen matrisin her bir elemanının karesini alınız.\n",
    "print(random3**2)\n",
    "\n",
    "# 19- Üretilen matris elemanlarının hangisi pozitif çift sayıdır ? Aralığı (-50,+50) arasında yapınız.\n",
    "random6 = np.random.randint(-50,50, size=(4,5))\n",
    "print((random6 % 2 == 0) & (random6 > 0))\n"
   ]
  }
 ],
 "metadata": {
  "kernelspec": {
   "display_name": "Python 3",
   "language": "python",
   "name": "python3"
  },
  "language_info": {
   "codemirror_mode": {
    "name": "ipython",
    "version": 3
   },
   "file_extension": ".py",
   "mimetype": "text/x-python",
   "name": "python",
   "nbconvert_exporter": "python",
   "pygments_lexer": "ipython3",
   "version": "3.11.2"
  },
  "orig_nbformat": 4,
  "vscode": {
   "interpreter": {
    "hash": "5026d2d6e7aaaaba093def813beadff083d8733e4a511af01735cbabd156995d"
   }
  }
 },
 "nbformat": 4,
 "nbformat_minor": 2
}
