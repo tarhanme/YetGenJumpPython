{
 "cells": [
  {
   "attachments": {},
   "cell_type": "markdown",
   "metadata": {},
   "source": [
    "# Problem 1 "
   ]
  },
  {
   "cell_type": "code",
   "execution_count": 1,
   "metadata": {},
   "outputs": [
    {
     "name": "stdout",
     "output_type": "stream",
     "text": [
      "[ 32  99 105  85]\n",
      "[ 32  85  99 105]\n",
      "[ 32  99 105  85]\n",
      "[ 32  85  99 105]\n"
     ]
    }
   ],
   "source": [
    "# 1 - numpy kütüphanesini import edin\n",
    "import numpy as np\n",
    "\n",
    "\n",
    "# 2 - 5 elemanlı bir numpy array oluşturun\n",
    "yetgen = np.array([32,99,105,85])\n",
    "print(yetgen)\n",
    "\n",
    "# 3 - Oluşturduğunuz arrayi küçükten büyüğe sıralayın.\n",
    "yetgen2 = np.sort(yetgen)\n",
    "print(yetgen2)\n",
    "\n",
    "# 2 - 5 elemanlı bir numpy array oluşturun\n",
    "yetgen = np.array([32,99,105,85])\n",
    "print(yetgen)\n",
    "\n",
    "# 3 - Oluşturduğunuz arrayi küçükten büyüğe sıralayın.\n",
    "yetgen2 = np.sort(yetgen)\n",
    "print(yetgen2)"
   ]
  },
  {
   "cell_type": "code",
   "execution_count": 2,
   "metadata": {},
   "outputs": [
    {
     "name": "stdout",
     "output_type": "stream",
     "text": [
      "[ 32  99 105  85]\n",
      "[ 32  85  99 105]\n"
     ]
    }
   ],
   "source": [
    "# 1 - numpy kütüphanesini import edin\n",
    "import numpy\n",
    "\n",
    "\n",
    "# 2 - 5 elemanlı bir numpy array oluşturun\n",
    "yetgen = np.array([32,99,105,85])\n",
    "print(yetgen)\n",
    "\n",
    "# 3 - Oluşturduğunuz arrayi küçükten büyüğe sıralayın.\n",
    "yetgen2 = np.sort(yetgen)\n",
    "print(yetgen2)"
   ]
  },
  {
   "attachments": {},
   "cell_type": "markdown",
   "metadata": {},
   "source": [
    "# Problem 2"
   ]
  },
  {
   "cell_type": "code",
   "execution_count": 5,
   "metadata": {},
   "outputs": [
    {
     "name": "stdout",
     "output_type": "stream",
     "text": [
      "sayi arrayı: [10 15 30 45 60]\n",
      "sayi2 arrayi: [ 5  6  7  8  9 10 11 12 13 14 15]\n",
      "sayi3 arrayı: [ 50  55  60  65  70  75  80  85  90  95 100]\n",
      "sayi4 arrayı: [0. 0. 0. 0. 0. 0. 0. 0. 0. 0.]\n",
      "sayi5 arrayı: [1. 1. 1. 1. 1. 1. 1. 1.]\n",
      "sayi6 arrayı: [  0.  25.  50.  75. 100.]\n",
      "sayi7 arrayı: [19 30 15 16 16]\n",
      "random sayılar: [-0.19898543  0.53943031  0.02130932  0.12301305 -0.54460677  0.15223495\n",
      "  0.12039205 -0.68022967 -0.33090919  0.91855462]\n",
      "random2: [[20 35 33 36 13]\n",
      " [39 45 48 35 45]\n",
      " [13 32 34 14 34]]\n",
      "[ 72 112 115  85  92]\n",
      "[137 212 127]\n",
      "48\n",
      "13\n",
      "31.733333333333334\n",
      "9\n",
      "[13 16 17]\n",
      "[13 11 12 13 15 14 11 17 16 13]\n",
      "[20 35 33 36 13]\n",
      "48\n",
      "[20 39 13]\n",
      "[[ 400 1225 1089 1296  169]\n",
      " [1521 2025 2304 1225 2025]\n",
      " [ 169 1024 1156  196 1156]]\n",
      "[[ True False  True  True  True]\n",
      " [ True False False False False]\n",
      " [ True  True  True False False]\n",
      " [False False False False False]]\n"
     ]
    }
   ],
   "source": [
    "# 1- (10,15,30,45,60) değerlerine sahip numpy dizisi oluşturunuz.\n",
    "sayi = np.array([10,15,30,45,60])\n",
    "print(\"sayi arrayı:\" , sayi)\n",
    "\n",
    "# 2- (5-15) arasındaki sayılarla numpy dizisi oluşturunuz.\n",
    "sayi2 = np.arange(5,16)\n",
    "print(\"sayi2 arrayi:\" , sayi2)\n",
    " \n",
    "# 3- (50-100) arasında 5'er 5'er artarak numpy dizisi oluşturunuz.\n",
    "sayi3 = np.arange(50,101,5)\n",
    "print(\"sayi3 arrayı:\" , sayi3)\n",
    "\n",
    "# 4- 10 elemanlı sıfırlardan oluşan bir dizi oluşturunuz.\n",
    "sayi4 = np.zeros(10)\n",
    "print(\"sayi4 arrayı:\" , sayi4)\n",
    "\n",
    "# 5- 10 elemanlı birlerden oluşan bir dizi oluşturunuz.\n",
    "sayi5 = np.ones(8)\n",
    "print(\"sayi5 arrayı:\" , sayi5)\n",
    "\n",
    "# 6- (0-100) arasında eşit aralıklı 5 sayı üretin.\n",
    "sayi6 = np.linspace(0,100,5)\n",
    "print(\"sayi6 arrayı:\" , sayi6)\n",
    "\n",
    "# 7- (10-30) arasında rastgele 5 tane tamsayı üretin.\n",
    "sayi7 = np.random.randint(10,31,size=5)\n",
    "print(\"sayi7 arrayı:\" , sayi7)\n",
    "\n",
    "# 8- [-1 ile 1] arasında 10 adet sayı üretin.\n",
    "random = np.random.uniform(-1,1, size=10)\n",
    "print(\"random sayılar:\" , random)\n",
    "\n",
    "# 9- (3x5) boyutlarında (10-50) arasında rastgele bir matris oluşturunuz.\n",
    "random2 = np.random.randint(10,50, size=(3,5))\n",
    "print(\"random2:\" , random2)\n",
    "\n",
    "# 10- Üretilen matrisin satır ve sütun sayıları toplamlarını hesaplayınız ?\n",
    "print(random2.sum(axis=0))\n",
    "print(random2.sum(axis=1))\n",
    "\n",
    "# 11- Üretilen matrisin en büyük, en küçük ve ortalaması nedir ?\n",
    "print(random2.max())\n",
    "print(random2.min())\n",
    "print(random2.mean())\n",
    "\n",
    "# 12- Üretilen matrisin en büyük değerinin indeksi kaçtır ?\n",
    "print(random.argmax())\n",
    "\n",
    "\n",
    "# 13- (10-20) arasındaki sayıları içeren dizinin ilk 3 elemanını seçiniz.\n",
    "random4 = np.random.randint(10,20, size=10)\n",
    "print(random4[:3])\n",
    "\n",
    "# 14- Üretilen dizinin elemanlarını tersten yazdırın.\n",
    "print(random4[::-1])\n",
    "\n",
    "# 15- Üretilen matrisin ilk satırını seçiniz.\n",
    "print(random2[0])\n",
    "\n",
    "# 16- Üretilen matrisin 2.satır 3.sütundaki elemanı hangisidir ?\n",
    "print(random2[1][2])\n",
    "\n",
    "# 17- Üretilen matrisin tüm satırlardaki ilk elemanı seçiniz.\n",
    "print(random2[:,0])\n",
    "\n",
    "# 18- Üretilen matrisin her bir elemanının karesini alınız.\n",
    "print(random2**2)\n",
    "\n",
    "# 19- Üretilen matris elemanlarının hangisi pozitif çift sayıdır ? Aralığı (-50,+50) arasında yapınız.\n",
    "random6 = np.random.randint(-50,50, size=(4,5))\n",
    "print((random6 % 2 == 0) & (random6 > 0))\n"
   ]
  }
 ],
 "metadata": {
  "kernelspec": {
   "display_name": "Python 3",
   "language": "python",
   "name": "python3"
  },
  "language_info": {
   "codemirror_mode": {
    "name": "ipython",
    "version": 3
   },
   "file_extension": ".py",
   "mimetype": "text/x-python",
   "name": "python",
   "nbconvert_exporter": "python",
   "pygments_lexer": "ipython3",
   "version": "3.11.3"
  },
  "orig_nbformat": 4,
  "vscode": {
   "interpreter": {
    "hash": "5026d2d6e7aaaaba093def813beadff083d8733e4a511af01735cbabd156995d"
   }
  }
 },
 "nbformat": 4,
 "nbformat_minor": 2
}
