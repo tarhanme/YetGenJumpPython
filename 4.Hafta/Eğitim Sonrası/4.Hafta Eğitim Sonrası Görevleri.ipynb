{
 "cells": [
  {
   "cell_type": "markdown",
   "metadata": {},
   "source": [
    "# Problem 1\n",
    "`ogrenciler` adında bir sözlük oluşturunuz. Kullanıcıdan döngü yardımıyla 3 öğrenci için veri girmesini isteyerek öğrencilerin sırasıyla okul numarası, isim, soy isim, telefon numarası ve doğum tarihi bilgilerini alınız. Aldığınız öğrenci bilgilerini yine aynı döngü yardımıyla `ogrenciler` adındaki sözlükte saklayınız. Daha sonra öğrenci bilgilerinin bulunduğu sözlük yapısını ekrana bastırınız.\n",
    "\n"
   ]
  },
  {
   "cell_type": "code",
   "execution_count": 1,
   "metadata": {},
   "outputs": [
    {
     "name": "stdout",
     "output_type": "stream",
     "text": [
      "{'Numara:': '', 'isim:': '1', 'Soy İsim:': '2', 'Telefon Numarası:': '3', 'Doğum Tarihi:': '4'}\n",
      "{'Numara:': '5', 'isim:': '1', 'Soy İsim:': '2', 'Telefon Numarası:': '3', 'Doğum Tarihi:': '4'}\n",
      "{'Numara:': '5', 'isim:': '1', 'Soy İsim:': '2', 'Telefon Numarası:': '3', 'Doğum Tarihi:': '4'}\n"
     ]
    }
   ],
   "source": [
    "# 1.Problemin Çözümünü Buraya Yazınız\n",
    "\n",
    "ogrenciler = {}\n",
    "\n",
    "for i in range (1,4):\n",
    "    numara = input(\"Lütfen okul numaranızı giriniz\")\n",
    "    isim = input(\"Lütfen isminizi giriniz\")\n",
    "    soyİsim =input(\"Lütfen soyisminizi giriniz\")\n",
    "    telefonNumarası = input(\"Lütfen telefon numaranızı giriniz\")\n",
    "    dogumTarihi = input(\"Lütfen doğum tarihinizi giriniz\")\n",
    "\n",
    "    ogrenciler = {\n",
    "        \"Numara:\" : numara,\n",
    "        \"isim:\" : isim,\n",
    "        \"Soy İsim:\" : soyİsim,\n",
    "        \"Telefon Numarası:\" : telefonNumarası,\n",
    "        \"Doğum Tarihi:\" : dogumTarihi\n",
    "    }\n",
    "\n",
    "    print(ogrenciler)\n",
    "    "
   ]
  },
  {
   "cell_type": "markdown",
   "metadata": {},
   "source": [
    "# Problem 2\n",
    "\n",
    "### a - Biraz ısınarak başlayalım!\n",
    "\n",
    "```\n",
    "numbers = [5,10,10,15,15,15,20,20,20,20]\n",
    "```\n",
    "\n",
    "Yukarıda `numbers` adında 10 elemanlı bir liste verilmiştir. Bu listenin her elemanını kontrol eden ve tekrar eden elemanları bir kez olacak şekilde başka bir listeye kopyalayan bir program yazınız. Son olarak oluşturduğunuz listeyi ekrana bastırınız.\n",
    "\n",
    "\n",
    "\n",
    "\n",
    "```\n",
    ">Output\n",
    "[5, 10, 15, 20]\n",
    "```\n"
   ]
  },
  {
   "cell_type": "code",
   "execution_count": 2,
   "metadata": {},
   "outputs": [
    {
     "name": "stdout",
     "output_type": "stream",
     "text": [
      "[5, 10, 15, 20]\n"
     ]
    }
   ],
   "source": [
    "# 2.Problemin a Şıkkının Çözümünü Buraya Yazınız\n",
    "\n",
    "numbers = [5,10,10,15,15,15,20,20,20,20]\n",
    "istenen = []\n",
    "\n",
    "for j in numbers:\n",
    "    if j in istenen:\n",
    "        continue\n",
    "    else:\n",
    "        istenen.append(j)\n",
    "print(istenen)\n",
    "\n"
   ]
  },
  {
   "cell_type": "markdown",
   "metadata": {},
   "source": [
    "### 🌶️ b) Hadi işi biraz daha zorlaştıralım! \n",
    "\n",
    "\n",
    "Şimdiyse senden `numbers` isimli listedeki tekrar eden elemanları `repeatNumbers` adındaki listeye; tekrar etmeyen elemanları `uniqueNumbers`adındaki listeye kopyalayan yazmanı ve listeleri ekrana bastırmanı bekliyoruz\n",
    "\n",
    "```\n",
    ">Output\n",
    "Tekrar Eden Elemanlar: [10, 10, 15, 15, 15, 20, 20, 20, 20]\n",
    "Tekrar Etmeyen Elemanlar: [5]\n",
    "```"
   ]
  },
  {
   "cell_type": "code",
   "execution_count": 5,
   "metadata": {},
   "outputs": [
    {
     "name": "stdout",
     "output_type": "stream",
     "text": [
      "Tekrar Edenler: []\n",
      "Tekrar Etmeyenler: [5]\n",
      "Tekrar Edenler: [10]\n",
      "Tekrar Etmeyenler: [5]\n",
      "Tekrar Edenler: [10, 10]\n",
      "Tekrar Etmeyenler: [5]\n",
      "Tekrar Edenler: [10, 10, 15]\n",
      "Tekrar Etmeyenler: [5]\n",
      "Tekrar Edenler: [10, 10, 15, 15]\n",
      "Tekrar Etmeyenler: [5]\n",
      "Tekrar Edenler: [10, 10, 15, 15, 15]\n",
      "Tekrar Etmeyenler: [5]\n",
      "Tekrar Edenler: [10, 10, 15, 15, 15, 20]\n",
      "Tekrar Etmeyenler: [5]\n",
      "Tekrar Edenler: [10, 10, 15, 15, 15, 20, 20]\n",
      "Tekrar Etmeyenler: [5]\n",
      "Tekrar Edenler: [10, 10, 15, 15, 15, 20, 20, 20]\n",
      "Tekrar Etmeyenler: [5]\n",
      "Tekrar Edenler: [10, 10, 15, 15, 15, 20, 20, 20, 20]\n",
      "Tekrar Etmeyenler: [5]\n"
     ]
    }
   ],
   "source": [
    "# 2.Problemin b Şıkkının Çözümünü Buraya Yazınız\n",
    "\n",
    "numbers1 = [5,10,10,15,15,15,20,20,20,20]\n",
    "repeatNumbers = []\n",
    "uniqueNumbers = []\n",
    "\n",
    "for f in numbers1:\n",
    "    if numbers1.count(f) == 1:\n",
    "        uniqueNumbers.append(f)\n",
    "    else:\n",
    "        repeatNumbers.append(f)\n",
    "\n",
    "    print(\"Tekrar Edenler:\" , repeatNumbers)\n",
    "    print(\"Tekrar Etmeyenler:\" , uniqueNumbers)"
   ]
  },
  {
   "cell_type": "markdown",
   "metadata": {},
   "source": [
    "# Problem 3\n",
    "sn1 = {1,2,3,4,5}\n",
    "\n",
    "sn2 = {4,5,6,7,8}\n",
    "\n",
    " Verilen 2 adet küme için kesişimlerini, farklarını ve birleşimlerini bulunuz. "
   ]
  },
  {
   "cell_type": "code",
   "execution_count": 13,
   "metadata": {},
   "outputs": [
    {
     "name": "stdout",
     "output_type": "stream",
     "text": [
      "{1, 2, 3, 4, 5, 6, 7, 8}\n"
     ]
    }
   ],
   "source": [
    "# 3.Problemin Çözümünü Buraya Yazınız\n",
    "\n",
    "sn1 = {1,2,3,4,5}\n",
    "sn2 = {4,5,6,7,8}\n",
    "\n",
    "#kesisim = sn1.intersection(sn2)\n",
    "#print(kesisim)\n",
    "\n",
    "#fark1 = sn1.difference(sn2)\n",
    "#fark2 = sn2.difference(sn1)\n",
    "#print(fark1 , \" \" , fark2)\n",
    "\n",
    "birlesim = sn1.union(sn2)\n",
    "print(birlesim)\n",
    "\n"
   ]
  },
  {
   "cell_type": "markdown",
   "metadata": {},
   "source": [
    "# Problem 4\n",
    "\n",
    "Buradaki işlemlerimizin tamamı stringler içindir. Aşağıda verilecek olan metodlar için kendinizin örnek yaratması gerekmektedir. \n",
    "\n",
    "Örneğin `upper` için `string` değişkeni oluştururken` k = \"BAC\"` şeklinde oluşturmayınız. Bunun yerine k değişkenini `k = \"bac`\" şeklinde oluşturmanız `upper` metodundaki değişimi görebilmeniz için daha iyi olacaktır.\n",
    "\n",
    "Bütün metodlardaki değişimin gözle görülür şekilde değişimi beklenmektedir.\n",
    "\n",
    "\n",
    "1- capitalize(), lower(), upper(), swapcase(), title(), replace()\n",
    "\n",
    "2- endswith(), startswith(), find(), index(), count()\n",
    "\n",
    "3- split(), strip(), join(), islower(), isalpha(), isdigit()\n",
    "\n",
    "\n",
    "Yukarıdaki `string` metodlarındaki değişimleri görebildiğimiz bir program yazınız.\n"
   ]
  },
  {
   "cell_type": "code",
   "execution_count": 49,
   "metadata": {},
   "outputs": [
    {
     "name": "stdout",
     "output_type": "stream",
     "text": [
      "Hello world\n",
      "beni̇m adim melda tarhan.\n",
      "PSIKOLOJI OKUYORUM.\n",
      "i̇stanbul'da yaşiyorum.\n",
      "Yetgen Ile Python Öğreniyorum.\n",
      "Python ile harika şeyleri yapacağıma inanıyorum.\n"
     ]
    }
   ],
   "source": [
    "# 4.Problemin Çözümünü Buraya Yazınız\n",
    "\n",
    "a = \"hello world\"\n",
    "print(a.capitalize())\n",
    "\n",
    "b = \"BENİM ADIM MELDA TARHAN.\"\n",
    "print(b.lower())\n",
    "\n",
    "c = \"psikoloji okuyorum.\"\n",
    "print(c.upper())\n",
    "\n",
    "e = \"İSTANBUL'DA YAŞIYORUM.\"\n",
    "print(e.swapcase())\n",
    "\n",
    "f = \"yetgen ile python öğreniyorum.\"\n",
    "print(f.title())\n",
    "\n",
    "g = \"Python ile güzel şeyleri yapacağıma inanıyorum.\"\n",
    "print(g.replace(\"güzel\",\"harika\"))\n",
    "\n"
   ]
  },
  {
   "cell_type": "code",
   "execution_count": 35,
   "metadata": {},
   "outputs": [
    {
     "name": "stdout",
     "output_type": "stream",
     "text": [
      "False\n",
      "False\n",
      "-1\n",
      "16\n",
      "4\n"
     ]
    }
   ],
   "source": [
    "a1 = \"şarkı söylemeyi çok severim.\"\n",
    "print(a1.endswith(\"!\"))\n",
    "print(a1.startswith(\"x\"))\n",
    "print(a1.find(\"d\"))\n",
    "print(a1.index(\"çok\"))\n",
    "print(a1.count(\"e\"))\n"
   ]
  },
  {
   "cell_type": "code",
   "execution_count": 50,
   "metadata": {},
   "outputs": [
    {
     "name": "stdout",
     "output_type": "stream",
     "text": [
      "         YetGenli olmayı seviyorum.\n",
      "YetGenli olmayı seviyorum.\n",
      "m\n",
      "True\n",
      "False\n",
      "True\n",
      "False\n"
     ]
    }
   ],
   "source": [
    "a2 = \"         YetGenli olmayı seviyorum.\"\n",
    "print(a2)\n",
    "print(a2.strip())\n",
    "\n",
    "b2 = \"YetGen ile öğreniyoru\"\n",
    "b2 = b2.join(\"m\")\n",
    "print(b2)\n",
    "\n",
    "c2 = \"2000m\"\n",
    "print(c2.islower())\n",
    "\n",
    "d2 = \"yetgen\"\n",
    "print(d2.isdigit())\n",
    "\n",
    "e2 = \"PythonEğitimi\"\n",
    "print(e2.isalpha())\n",
    "\n",
    "f2 = \"Öğrenmeyi seviyorum\"\n",
    "print(f2.isdigit())\n",
    "\n"
   ]
  }
 ],
 "metadata": {
  "kernelspec": {
   "display_name": "Python 3.10.5 64-bit",
   "language": "python",
   "name": "python3"
  },
  "language_info": {
   "codemirror_mode": {
    "name": "ipython",
    "version": 3
   },
   "file_extension": ".py",
   "mimetype": "text/x-python",
   "name": "python",
   "nbconvert_exporter": "python",
   "pygments_lexer": "ipython3",
   "version": "3.11.2"
  },
  "orig_nbformat": 4,
  "vscode": {
   "interpreter": {
    "hash": "5026d2d6e7aaaaba093def813beadff083d8733e4a511af01735cbabd156995d"
   }
  }
 },
 "nbformat": 4,
 "nbformat_minor": 2
}
